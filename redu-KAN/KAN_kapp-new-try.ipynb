{
 "cells": [
  {
   "cell_type": "code",
   "execution_count": 10,
   "id": "b16eca87",
   "metadata": {
    "scrolled": true
   },
   "outputs": [
    {
     "name": "stderr",
     "output_type": "stream",
     "text": [
      "train loss: 1.64e-01 | test loss: 1.67e-01 | reg: 1.93e+01 :   0%|           | 0/15 [00:00<?, ?it/s]"
     ]
    },
    {
     "name": "stdout",
     "output_type": "stream",
     "text": [
      "Step   0 | train loss: 1.64e-01 | test loss: 1.67e-01 | reg: 1.93e+01\n"
     ]
    },
    {
     "name": "stderr",
     "output_type": "stream",
     "text": [
      "train loss: 1.20e-01 | test loss: 1.17e-01 | reg: 2.14e+01 :   7%|▏  | 1/15 [00:00<00:06,  2.20it/s]"
     ]
    },
    {
     "name": "stdout",
     "output_type": "stream",
     "text": [
      "Step   1 | train loss: 1.20e-01 | test loss: 1.17e-01 | reg: 2.14e+01\n"
     ]
    },
    {
     "name": "stderr",
     "output_type": "stream",
     "text": [
      "train loss: 1.08e-01 | test loss: 1.04e-01 | reg: 2.21e+01 :  13%|▍  | 2/15 [00:01<00:05,  2.45it/s]"
     ]
    },
    {
     "name": "stdout",
     "output_type": "stream",
     "text": [
      "Step   2 | train loss: 1.08e-01 | test loss: 1.04e-01 | reg: 2.21e+01\n"
     ]
    },
    {
     "name": "stderr",
     "output_type": "stream",
     "text": [
      "train loss: 1.04e-01 | test loss: 1.00e-01 | reg: 2.29e+01 :  20%|▌  | 3/15 [00:01<00:04,  2.46it/s]"
     ]
    },
    {
     "name": "stdout",
     "output_type": "stream",
     "text": [
      "Step   3 | train loss: 1.04e-01 | test loss: 1.00e-01 | reg: 2.29e+01\n"
     ]
    },
    {
     "name": "stderr",
     "output_type": "stream",
     "text": [
      "train loss: 9.99e-02 | test loss: 9.57e-02 | reg: 2.36e+01 :  27%|▊  | 4/15 [00:01<00:04,  2.56it/s]"
     ]
    },
    {
     "name": "stdout",
     "output_type": "stream",
     "text": [
      "Step   4 | train loss: 9.99e-02 | test loss: 9.57e-02 | reg: 2.36e+01\n"
     ]
    },
    {
     "name": "stderr",
     "output_type": "stream",
     "text": [
      "train loss: 9.70e-02 | test loss: 9.28e-02 | reg: 2.16e+01 :  33%|█  | 5/15 [00:02<00:03,  2.60it/s]"
     ]
    },
    {
     "name": "stdout",
     "output_type": "stream",
     "text": [
      "Step   5 | train loss: 9.70e-02 | test loss: 9.28e-02 | reg: 2.16e+01\n"
     ]
    },
    {
     "name": "stderr",
     "output_type": "stream",
     "text": [
      "train loss: 9.36e-02 | test loss: 8.59e-02 | reg: 2.24e+01 :  40%|█▏ | 6/15 [00:02<00:03,  2.50it/s]"
     ]
    },
    {
     "name": "stdout",
     "output_type": "stream",
     "text": [
      "Step   6 | train loss: 9.36e-02 | test loss: 8.59e-02 | reg: 2.24e+01\n"
     ]
    },
    {
     "name": "stderr",
     "output_type": "stream",
     "text": [
      "train loss: 9.24e-02 | test loss: 8.51e-02 | reg: 2.29e+01 :  47%|█▍ | 7/15 [00:03<00:03,  2.53it/s]"
     ]
    },
    {
     "name": "stdout",
     "output_type": "stream",
     "text": [
      "Step   7 | train loss: 9.24e-02 | test loss: 8.51e-02 | reg: 2.29e+01\n"
     ]
    },
    {
     "name": "stderr",
     "output_type": "stream",
     "text": [
      "train loss: 9.16e-02 | test loss: 8.37e-02 | reg: 2.33e+01 :  53%|█▌ | 8/15 [00:03<00:02,  2.51it/s]"
     ]
    },
    {
     "name": "stdout",
     "output_type": "stream",
     "text": [
      "Step   8 | train loss: 9.16e-02 | test loss: 8.37e-02 | reg: 2.33e+01\n"
     ]
    },
    {
     "name": "stderr",
     "output_type": "stream",
     "text": [
      "train loss: 9.11e-02 | test loss: 8.33e-02 | reg: 2.37e+01 :  60%|█▊ | 9/15 [00:03<00:02,  2.56it/s]"
     ]
    },
    {
     "name": "stdout",
     "output_type": "stream",
     "text": [
      "Step   9 | train loss: 9.11e-02 | test loss: 8.33e-02 | reg: 2.37e+01\n"
     ]
    },
    {
     "name": "stderr",
     "output_type": "stream",
     "text": [
      "train loss: 9.13e-02 | test loss: 8.44e-02 | reg: 2.33e+01 :  67%|█▎| 10/15 [00:04<00:01,  2.62it/s]"
     ]
    },
    {
     "name": "stdout",
     "output_type": "stream",
     "text": [
      "Step  10 | train loss: 9.13e-02 | test loss: 8.44e-02 | reg: 2.33e+01\n"
     ]
    },
    {
     "name": "stderr",
     "output_type": "stream",
     "text": [
      "train loss: 9.09e-02 | test loss: 8.41e-02 | reg: 2.34e+01 :  73%|█▍| 11/15 [00:04<00:01,  2.53it/s]"
     ]
    },
    {
     "name": "stdout",
     "output_type": "stream",
     "text": [
      "Step  11 | train loss: 9.09e-02 | test loss: 8.41e-02 | reg: 2.34e+01\n"
     ]
    },
    {
     "name": "stderr",
     "output_type": "stream",
     "text": [
      "train loss: 9.05e-02 | test loss: 8.38e-02 | reg: 2.32e+01 :  80%|█▌| 12/15 [00:05<00:01,  2.51it/s]"
     ]
    },
    {
     "name": "stdout",
     "output_type": "stream",
     "text": [
      "Step  12 | train loss: 9.05e-02 | test loss: 8.38e-02 | reg: 2.32e+01\n"
     ]
    },
    {
     "name": "stderr",
     "output_type": "stream",
     "text": [
      "train loss: 9.01e-02 | test loss: 8.39e-02 | reg: 2.31e+01 :  87%|█▋| 13/15 [00:05<00:00,  2.46it/s]"
     ]
    },
    {
     "name": "stdout",
     "output_type": "stream",
     "text": [
      "Step  13 | train loss: 9.01e-02 | test loss: 8.39e-02 | reg: 2.31e+01\n"
     ]
    },
    {
     "name": "stderr",
     "output_type": "stream",
     "text": [
      "train loss: 8.97e-02 | test loss: 8.33e-02 | reg: 2.29e+01 :  93%|█▊| 14/15 [00:06<00:00,  2.37it/s]"
     ]
    },
    {
     "name": "stdout",
     "output_type": "stream",
     "text": [
      "Step  14 | train loss: 8.97e-02 | test loss: 8.33e-02 | reg: 2.29e+01\n"
     ]
    },
    {
     "name": "stderr",
     "output_type": "stream",
     "text": [
      "train loss: 8.97e-02 | test loss: 8.33e-02 | reg: 2.29e+01 : 100%|██| 15/15 [00:06<00:00,  2.48it/s]"
     ]
    },
    {
     "name": "stdout",
     "output_type": "stream",
     "text": [
      "模型已保存为 best_kan_model.pth\n"
     ]
    },
    {
     "name": "stderr",
     "output_type": "stream",
     "text": [
      "\n"
     ]
    }
   ],
   "source": [
    "import torch\n",
    "import pandas as pd\n",
    "from sklearn.model_selection import train_test_split\n",
    "from sklearn.metrics import r2_score\n",
    "from kan import *\n",
    "import optuna\n",
    "\n",
    "# 读取数据集\n",
    "df = pd.read_csv('dataset_5578_normalized.csv')\n",
    "\n",
    "# 划分训练集和测试集\n",
    "train_df, test_df = train_test_split(df, test_size=0.1, random_state=2024)\n",
    "\n",
    "train_input = torch.tensor(train_df.drop(columns=['log(kappa)', 'compound', 'aurl']).values,\n",
    "                           dtype=torch.float32)\n",
    "train_label = torch.tensor(train_df['log(kappa)'].values, dtype=torch.float32).unsqueeze(1)\n",
    "\n",
    "test_input = torch.tensor(test_df.drop(columns=['log(kappa)', 'compound', 'aurl']).values,\n",
    "                          dtype=torch.float32)\n",
    "test_label = torch.tensor(test_df['log(kappa)'].values, dtype=torch.float32).unsqueeze(1)\n",
    "\n",
    "dataset = {\n",
    "    'train_input': train_input,\n",
    "    'train_label': train_label,\n",
    "    'test_input': test_input,\n",
    "    'test_label': test_label\n",
    "}\n",
    "\n",
    "def calculate_r2(model, input_data, true_labels):\n",
    "    predictions = model(input_data).detach().cpu().numpy()[:, 0]\n",
    "    true_values = true_labels[:, 0].cpu().numpy()\n",
    "    return r2_score(true_values, predictions)\n",
    "\n",
    "# 这里要手动输入超参数，超参数来源于模型的训练\n",
    "best_model = KAN(width=[4, 4, 1], grid=3, k=2,\n",
    "                 noise_scale=0, seed=0, symbolic_enabled=True)\n",
    "\n",
    "best_model.train(dataset, opt=\"LBFGS\", steps=15, lr=0.382248697703325, \n",
    "                 lamb_l1=3.0874938609110663, img_folder='img', save_fig=False)\n",
    "\n",
    "train_r2 = calculate_r2(best_model, dataset['train_input'], dataset['train_label'])\n",
    "test_r2 = calculate_r2(best_model, dataset['test_input'], dataset['test_label'])\n",
    "\n",
    "train_predictions = best_model(dataset['train_input']).detach().cpu().numpy()\n",
    "test_predictions = best_model(dataset['test_input']).detach().cpu().numpy()\n",
    "\n",
    "train_results = pd.DataFrame({\n",
    "    'compound': train_df['compound'],\n",
    "    'True_Values': dataset['train_label'][:, 0].numpy(),\n",
    "    'Predicted_Values': train_predictions[:, 0]\n",
    "})\n",
    "\n",
    "test_results = pd.DataFrame({\n",
    "    'compound': test_df['compound'],\n",
    "    'True_Values': dataset['test_label'][:, 0].numpy(),\n",
    "    'Predicted_Values': test_predictions[:, 0]\n",
    "})\n",
    "\n",
    "# 保存结果为CSV文件\n",
    "train_results.to_csv('final_train_predictions_kappa.csv', index=False)\n",
    "test_results.to_csv('final_test_predictions_kappa.csv', index=False)\n",
    "\n",
    "# 导出训练好的模型为 .pth 文件\n",
    "torch.save(best_model.state_dict(), 'best_kan_model.pth')\n",
    "print(\"模型已保存为 best_kan_model.pth\")\n"
   ]
  },
  {
   "cell_type": "code",
   "execution_count": 2,
   "id": "064f2025",
   "metadata": {
    "scrolled": true
   },
   "outputs": [
    {
     "name": "stdout",
     "output_type": "stream",
     "text": [
      "Test R² : 0.9702198873023073\n",
      "fixing (0,0,0) with gaussian, r2=0.9959954023361206\n",
      "fixing (0,0,1) with cosh, r2=0.9964548349380493\n",
      "fixing (0,0,2) with cosh, r2=0.999961256980896\n",
      "fixing (0,0,3) with sin, r2=0.9939029216766357\n",
      "fixing (0,1,0) with tanh, r2=0.999945342540741\n",
      "fixing (0,1,1) with exp, r2=0.999990701675415\n",
      "fixing (0,1,2) with cosh, r2=0.995338499546051\n",
      "fixing (0,1,3) with gaussian, r2=0.9948826432228088\n",
      "fixing (0,2,0) with gaussian, r2=0.9987557530403137\n",
      "fixing (0,2,1) with gaussian, r2=0.9960852265357971\n",
      "fixing (0,2,2) with gaussian, r2=0.9935315847396851\n",
      "fixing (0,2,3) with arctan, r2=0.99666827917099\n",
      "fixing (0,3,0) with tan, r2=0.994491696357727\n",
      "fixing (0,3,1) with tan, r2=0.989963173866272\n",
      "fixing (0,3,2) with tan, r2=0.991818368434906\n",
      "fixing (0,3,3) with x^3, r2=0.9289260506629944\n",
      "fixing (1,0,0) with gaussian, r2=0.9991965889930725\n",
      "fixing (1,1,0) with cosh, r2=0.9977551102638245\n",
      "fixing (1,2,0) with x^3, r2=0.8747504353523254\n",
      "fixing (1,3,0) with gaussian, r2=0.9995167851448059\n"
     ]
    }
   ],
   "source": [
    "test_predictions_df = pd.read_csv('final_test_predictions_kappa.csv')\n",
    "test_r2_loaded = r2_score(test_predictions_df['True_Values'], test_predictions_df['Predicted_Values'])\n",
    "\n",
    "print('Test R² :', test_r2_loaded)\n",
    "best_model.auto_symbolic()"
   ]
  },
  {
   "cell_type": "code",
   "execution_count": 3,
   "id": "607f93bd",
   "metadata": {
    "scrolled": true
   },
   "outputs": [
    {
     "data": {
      "text/plain": [
       "[-3.38*(-0.09*tan(2.16*d_4 + 5.42) - 0.94*cosh(1.8*d_1 - 0.67) - 0.e-2*cosh(6.6*d_2 - 1.54) + 1 + 0.42*exp(-2.27*(-d_3 - 0.04)**2))**3 + 0.33*cosh(0.34*tan(1.4*d_4 - 1.39) - 1.24*cosh(5.5*d_1 - 1.75) + 4.61 + 2.05*exp(-10.38*(0.12 - d_3)**2) - 3.15*exp(-1.56*d_2)) - 3.06 + 2.87*exp(-2.0*(0.18*tan(1.61*d_4 - 7.6) + 0.38*tanh(4.06*d_2 + 0.01) + 0.21 + exp(-5.87*(-d_3 - 0.07)**2) - 0.34*exp(-38.44*(-d_1 - 0.07)**2))**2) + 1.51*exp(-20.2*((0.4 - d_4)**3 + 0.06*sin(7.53*d_1 + 9.38) - 0.08*atan(4.59*d_3 - 1.61) + 0.41 - 0.22*exp(-38.44*(-d_2 - 0.06)**2))**2)]"
      ]
     },
     "execution_count": 3,
     "metadata": {},
     "output_type": "execute_result"
    }
   ],
   "source": [
    "# formula = best_model.symbolic_formula(\n",
    "#     var=[\n",
    "#         'spacegroup_relax',\n",
    "#         'agl_debye','agl_gruneisen',\n",
    "#         'agl_heat_capacity_Cp_300K','agl_heat_capacity_Cv_300K',                                          \n",
    "#         'agl_thermal_expansion_300K','agl_vibrational_entropy_300K_atom','agl_vibrational_free_energy_300K_atom',                                          \n",
    "#         'agl_bulk_modulus_static_300K','agl_bulk_modulus_isothermal_300K'\n",
    "#         ]\n",
    "# )[0][0]\n",
    "# formula\n",
    "\n",
    "# formula = best_model.symbolic_formula(\n",
    "#     var=['SG','\\Theta', '\\gamma', 'C_p', 'C_v', r'\\alpha', 'S_v', 'F', 'K_{s}',\n",
    "#              'K_{i}']\n",
    "# )[0][0]\n",
    "# formula\n",
    "\n",
    "formula = best_model.symbolic_formula(\n",
    "var=['d_1','d_2','d_3','d_4']\n",
    ")[0]\n",
    "formula"
   ]
  },
  {
   "cell_type": "code",
   "execution_count": 4,
   "id": "5c96f9c3",
   "metadata": {},
   "outputs": [
    {
     "data": {
      "text/latex": [
       "$\\displaystyle - 3.38 \\left(- 0.09 \\tan{\\left(2.16 K_{s} + 5.42 \\right)} - 0.94 \\cosh{\\left(1.8 C_{v} - 0.67 \\right)} - 0.01 \\cosh{\\left(6.6 \\alpha - 1.54 \\right)} + 1 + 0.42 e^{- 2.27 \\left(- F - 0.04\\right)^{2}}\\right)^{3} + 0.33 \\cosh{\\left(0.34 \\tan{\\left(1.4 K_{s} - 1.39 \\right)} - 1.24 \\cosh{\\left(5.5 C_{v} - 1.75 \\right)} + 4.61 + 2.05 e^{- 10.38 \\left(0.12 - F\\right)^{2}} - 3.15 e^{- 1.56 \\alpha} \\right)} - 3.06 + 2.87 e^{- 2.0 \\left(0.18 \\tan{\\left(1.61 K_{s} - 7.6 \\right)} + 0.38 \\tanh{\\left(4.06 \\alpha + 0.01 \\right)} + 0.21 + e^{- 5.87 \\left(- F - 0.07\\right)^{2}} - 0.34 e^{- 38.44 \\left(- C_{v} - 0.07\\right)^{2}}\\right)^{2}} + 1.51 e^{- 20.2 \\left(\\left(0.4 - K_{s}\\right)^{3} + 0.06 \\sin{\\left(7.53 C_{v} + 9.38 \\right)} - 0.08 \\operatorname{atan}{\\left(4.59 F - 1.61 \\right)} + 0.41 - 0.22 e^{- 38.44 \\left(- \\alpha - 0.06\\right)^{2}}\\right)^{2}}$"
      ],
      "text/plain": [
       "-3.38*(-0.09*tan(2.16*K_{s} + 5.42) - 0.94*cosh(1.8*C_v - 0.67) - 0.e-2*cosh(6.6*\\alpha - 1.54) + 1 + 0.42*exp(-2.27*(-F - 0.04)**2))**3 + 0.33*cosh(0.34*tan(1.4*K_{s} - 1.39) - 1.24*cosh(5.5*C_v - 1.75) + 4.61 + 2.05*exp(-10.38*(0.12 - F)**2) - 3.15*exp(-1.56*\\alpha)) - 3.06 + 2.87*exp(-2.0*(0.18*tan(1.61*K_{s} - 7.6) + 0.38*tanh(4.06*\\alpha + 0.01) + 0.21 + exp(-5.87*(-F - 0.07)**2) - 0.34*exp(-38.44*(-C_v - 0.07)**2))**2) + 1.51*exp(-20.2*((0.4 - K_{s})**3 + 0.06*sin(7.53*C_v + 9.38) - 0.08*atan(4.59*F - 1.61) + 0.41 - 0.22*exp(-38.44*(-\\alpha - 0.06)**2))**2)"
      ]
     },
     "execution_count": 4,
     "metadata": {},
     "output_type": "execute_result"
    }
   ],
   "source": [
    "formula = best_model.symbolic_formula(\n",
    "    var=['C_v', r'\\alpha', 'F', 'K_{s}']\n",
    ")[0][0]\n",
    "formula"
   ]
  },
  {
   "cell_type": "code",
   "execution_count": 5,
   "id": "efee208a",
   "metadata": {
    "scrolled": true
   },
   "outputs": [
    {
     "data": {
      "image/png": "[encoded data removed]",
      "text/plain": [
       "<Figure size 500x400 with 21 Axes>"
      ]
     },
     "metadata": {},
     "output_type": "display_data"
    }
   ],
   "source": [
    "best_model(dataset['train_input'])\n",
    "best_model.plot(\n",
    "    folder='img',\n",
    "    in_vars=[r'$C_{\\rm v}$', r'$\\alpha$', '$F$', r'$K_{\\rm s}$'],\n",
    "    out_vars=[r'$\\log(\\kappa_{\\rm L})$'],beta=5\n",
    "               )\n"
   ]
  },
  {
   "cell_type": "code",
   "execution_count": 6,
   "id": "a19aa7b2",
   "metadata": {
    "scrolled": false
   },
   "outputs": [
    {
     "name": "stdout",
     "output_type": "stream",
     "text": [
      "Moviepy - Building video video_kappa.mp4.\n",
      "Moviepy - Writing video video_kappa.mp4\n",
      "\n"
     ]
    },
    {
     "name": "stderr",
     "output_type": "stream",
     "text": [
      "                                                            "
     ]
    },
    {
     "name": "stdout",
     "output_type": "stream",
     "text": [
      "Moviepy - Done !\n",
      "Moviepy - video ready video_kappa.mp4\n"
     ]
    },
    {
     "name": "stderr",
     "output_type": "stream",
     "text": [
      "\r"
     ]
    }
   ],
   "source": [
    "\n",
    "import moviepy.video.io.ImageSequenceClip  # moviepy == 1.0.3\n",
    "import os\n",
    "import numpy as np\n",
    "\n",
    "image_folder = 'img'\n",
    "video_name = 'video_kappa'\n",
    "fps = 4\n",
    "\n",
    "fps = fps\n",
    "files = os.listdir(image_folder)\n",
    "train_index = []\n",
    "for file in files:\n",
    "    if file[0].isdigit() and file.endswith('.jpg'):\n",
    "        train_index.append(int(file[:-4]))\n",
    "\n",
    "train_index = np.sort(train_index)\n",
    "\n",
    "image_files = [image_folder + '/' + str(train_index[index]) + '.jpg' for index in train_index]\n",
    "\n",
    "clip = moviepy.video.io.ImageSequenceClip.ImageSequenceClip(image_files, fps=fps)\n",
    "clip.write_videofile(video_name + '.mp4')"
   ]
  },
  {
   "cell_type": "code",
   "execution_count": 7,
   "id": "169ac05b",
   "metadata": {},
   "outputs": [],
   "source": [
    "d_1 = test_input[:, 0]\n",
    "d_2 = test_input[:, 1]\n",
    "d_3 = test_input[:, 2]\n",
    "d_4 = test_input[:, 3]\n"
   ]
  },
  {
   "cell_type": "code",
   "execution_count": 8,
   "id": "b327e697",
   "metadata": {},
   "outputs": [
    {
     "name": "stdout",
     "output_type": "stream",
     "text": [
      "Test R² : 0.9638741563372917\n"
     ]
    }
   ],
   "source": [
    "def sigmoid(x):\n",
    "    return 1 / (1 + np.exp(-x))\n",
    "\n",
    "formula_out=(\n",
    "-1.04 * np.sin(-5.8 * (0.25 - d_1)**2 \n",
    "                + 0.41 * np.arctan(5.6 * d_3 - 1.88) \n",
    "                + 0.26 * np.arctan(6.8 * d_4 - 4.71) \n",
    "                + 8.34 \n",
    "                + 1.23 * np.exp(-38.44 * (-d_2 - 0.06)**2)) \n",
    "+ 0.22 * np.sin(3.14 * np.sin(2.86 * d_1 + 9.78) \n",
    "                + 0.28 * np.sin(8.08 * d_2 - 5.62) \n",
    "                + 0.88 * np.tan(2.0 * d_4 - 0.99) \n",
    "                + 0.46 * np.abs(9.3 * d_3 - 1.18) \n",
    "                + 1.38) \n",
    "+ 1.3 * np.cosh(-0.53 * np.sin(4.23 * d_3 - 1.6) \n",
    "                + 0.44 * np.tan(2.53 * d_2 - 7.39) \n",
    "                - 0.65 * np.cosh(5.43 * d_1 - 1.74) \n",
    "                + 0.29 * np.arctan(8.45 * d_4 - 0.54) \n",
    "                + 1.4) \n",
    "- 2.77 \n",
    "+ 2.63 * np.exp(-7.44 * ((0.76 - d_3)**2 \n",
    "                + 0.11 * np.tan(1.46 * d_4 + 5.0) \n",
    "                + 0.3 \n",
    "                - 0.22 * np.exp(-18.73 * (-d_2 - 0.13)**2) \n",
    "                - 0.12 * np.exp(-38.44 * (-d_1 - 0.07)**2))**2)\n",
    ")\n",
    "# Example usage with numpy arrays\n",
    "test_r2_loaded = r2_score(dataset['test_label'], formula_out)\n",
    "\n",
    "print('Test R² :', test_r2_loaded)"
   ]
  },
  {
   "cell_type": "code",
   "execution_count": null,
   "id": "5aa5743b",
   "metadata": {},
   "outputs": [],
   "source": []
  }
 ],
 "metadata": {
  "kernelspec": {
   "display_name": "Python 3",
   "language": "python",
   "name": "python3"
  },
  "language_info": {
   "codemirror_mode": {
    "name": "ipython",
    "version": 3
   },
   "file_extension": ".py",
   "mimetype": "text/x-python",
   "name": "python",
   "nbconvert_exporter": "python",
   "pygments_lexer": "ipython3",
   "version": "3.11.6"
  }
 },
 "nbformat": 4,
 "nbformat_minor": 5
}
